{
 "cells": [
  {
   "cell_type": "code",
   "execution_count": 78,
   "metadata": {},
   "outputs": [
    {
     "data": {
      "application/vnd.jupyter.widget-view+json": {
       "model_id": "1b71656816b84e8c835d02e8ee0e8aa2",
       "version_major": 2,
       "version_minor": 0
      },
      "text/plain": [
       "VBox(children=(HTML(value=''), Renderer(background='#cccc88', background_opacity=0.0, camera=PerspectiveCamera…"
      ]
     },
     "metadata": {},
     "output_type": "display_data"
    }
   ],
   "source": [
    "from solid import *\n",
    "from solid.utils import *\n",
    "import viewscad\n",
    "import numpy as np\n",
    "\n",
    "r = viewscad.Renderer()\n",
    "#Z-X'-Z'' = 20-10-30:\n",
    "def Rz(a: float):\n",
    "    Rz = np.matrix([[np.cos(a), -np.sin(a),0],\n",
    "         [np.sin(a), np.cos(a),0],\n",
    "        [0,0,1]])\n",
    "    return Rz\n",
    "\n",
    "def Rx(a: float):\n",
    "    Rx = np.matrix([[1,0,0],\n",
    "                    [0, np.cos(a), -np.sin(a)],\n",
    "                    [0, np.sin(a), np.cos(a)]])\n",
    "    return Rx\n",
    "\n",
    "def Ry(a: float):\n",
    "    Ry = np.matrix([[np.cos(a),0,np.sin(a)],\n",
    "                    [0, 1, 0],\n",
    "                    [-np.sin(a), 0, np.cos(a)]])\n",
    "    return Ry\n",
    "def Rot_Trans(x: float,y:float,z:float,ax:float,ay:float,az:float):\n",
    "    b = Rz(20)*Rx(10)*Rz(30)\n",
    "    b = np.insert(b,[3],[[x],[y],[z]],axis=1)\n",
    "    b = np.insert(np.transpose(b),[3],[[0],[0],[0],[1]],axis=1)\n",
    "    b = np.transpose(b)\n",
    "\n",
    "    return b\n",
    "    \n",
    "\n",
    "def q1a_t():\n",
    "    b = Rz(20)*Rx(10)*Rz(30)\n",
    "    bb = b.tolist()\n",
    "    c = multmatrix(bb)(cube(1,center=True))\n",
    "    \n",
    "    #c = rotate([0,0,30])(rotate([10,0,0])(rotate([0,0,20])(cube(1,center=True))))\n",
    "    r.render(c)\n",
    "    print(scad_render(c))\n",
    "\n",
    "    \n",
    "def q1b_t():\n",
    "    bb = Rot_Trans(5,5,5,20,10,30)\n",
    "    bb = bb.tolist()\n",
    "    c = multmatrix(bb)(cube(1,center=True))\n",
    "    #c = translate([-5,-5,0])(rotate([0,0,30])(rotate([10,0,0])(rotate([0,0,20])(translate([5,5,0])(cube(1,center=True))))))\n",
    "    r.render(c)\n",
    "    print(scad_render(c))\n",
    "\n",
    "def q1c_t():\n",
    "    b = 0.5\n",
    "    Sx = np.matrix([[1,0,0,0],[b,1,0,0],[b,0,1,0],[0,0,0,1]])\n",
    "    Sx = Sx.tolist()\n",
    "    Sy = np.matrix([[1,b,0,0],[0,1,0,0],[0,b,1,0],[0,0,0,1]])\n",
    "    Sy = Sy.tolist()\n",
    "    Sz = np.matrix([[1,0,b,0],[0,1,b,0],[0,0,1,0],[0,0,0,1]])\n",
    "    Sz = Sz.tolist() \n",
    "    \n",
    "    c = multmatrix(Sx)(cube(1,center=True))\n",
    "  #  c = multmatrix(Sy)(cube(1,center=True))\n",
    "  #  c = multmatrix(Sz)(cube(1,center=True))\n",
    "\n",
    "    r.render(c)\n",
    "q1c_t()\n",
    "\n",
    "\n"
   ]
  }
 ],
 "metadata": {
  "kernelspec": {
   "display_name": "Python 3",
   "language": "python",
   "name": "python3"
  },
  "language_info": {
   "codemirror_mode": {
    "name": "ipython",
    "version": 3
   },
   "file_extension": ".py",
   "mimetype": "text/x-python",
   "name": "python",
   "nbconvert_exporter": "python",
   "pygments_lexer": "ipython3",
   "version": "3.7.4"
  }
 },
 "nbformat": 4,
 "nbformat_minor": 2
}
