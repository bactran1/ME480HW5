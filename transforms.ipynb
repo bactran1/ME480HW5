{
 "cells": [
  {
   "cell_type": "code",
   "execution_count": 78,
   "metadata": {},
   "outputs": [
    {
     "data": {
      "application/vnd.jupyter.widget-view+json": {
       "model_id": "1b71656816b84e8c835d02e8ee0e8aa2",
       "version_major": 2,
       "version_minor": 0
      },
      "text/plain": [
       "VBox(children=(HTML(value=''), Renderer(background='#cccc88', background_opacity=0.0, camera=PerspectiveCamera…"
      ]
     },
     "metadata": {},
     "output_type": "display_data"
    }
   ],
   "source": [
    "from solid import *\n",
    "from solid.utils import *\n",
    "import viewscad\n",
    "import numpy as np\n",
    "\n",
    "r = viewscad.Renderer()\n",
    "#Z-X'-Z'' = 20-10-30:\n",
    "def Rz(a: float):\n",
    "    Rz = np.matrix([[np.cos(a), -np.sin(a),0],\n",
    "         [np.sin(a), np.cos(a),0],\n",
    "        [0,0,1]])\n",
    "    return Rz\n",
    "\n",
    "def Rx(a: float):\n",
    "    Rx = np.matrix([[1,0,0],\n",
    "                    [0, np.cos(a), -np.sin(a)],\n",
    "                    [0, np.sin(a), np.cos(a)]])\n",
    "    return Rx\n",
    "\n",
    "def Ry(a: float):\n",
    "    Ry = np.matrix([[np.cos(a),0,np.sin(a)],\n",
    "                    [0, 1, 0],\n",
    "                    [-np.sin(a), 0, np.cos(a)]])\n",
    "    return Ry\n",
    "def Rot_Trans(x: float,y:float,z:float,ax:float,ay:float,az:float):\n",
    "    b = Rz(20)*Rx(10)*Rz(30)\n",
    "    b = np.insert(b,[3],[[x],[y],[z]],axis=1)\n",
    "    b = np.insert(np.transpose(b),[3],[[0],[0],[0],[1]],axis=1)\n",
    "    b = np.transpose(b)\n",
    "\n",
    "    return b\n",
    "    \n",
    "\n",
    "def q1a_t():\n",
    "    b = Rz(20)*Rx(10)*Rz(30)\n",
    "    bb = b.tolist()\n",
    "    c = multmatrix(bb)(cube(1,center=True))\n",
    "    \n",
    "    #c = rotate([0,0,30])(rotate([10,0,0])(rotate([0,0,20])(cube(1,center=True))))\n",
    "    r.render(c)\n",
    "    print(scad_render(c))\n",
    "\n",
    "    \n",
    "def q1b_t():\n",
    "    bb = Rot_Trans(5,5,5,20,10,30)\n",
    "    bb = bb.tolist()\n",
    "    c = multmatrix(bb)(cube(1,center=True))\n",
    "    #c = translate([-5,-5,0])(rotate([0,0,30])(rotate([10,0,0])(rotate([0,0,20])(translate([5,5,0])(cube(1,center=True))))))\n",
    "    r.render(c)\n",
    "    print(scad_render(c))\n",
    "\n",
    "def q1c_t():\n",
    "    b = 0.5\n",
    "    Sx = np.matrix([[1,0,0,0],[b,1,0,0],[b,0,1,0],[0,0,0,1]])\n",
    "    Sx = Sx.tolist()\n",
    "    Sy = np.matrix([[1,b,0,0],[0,1,0,0],[0,b,1,0],[0,0,0,1]])\n",
    "    Sy = Sy.tolist()\n",
    "    Sz = np.matrix([[1,0,b,0],[0,1,b,0],[0,0,1,0],[0,0,0,1]])\n",
    "    Sz = Sz.tolist() \n",
    "    \n",
    "    c = multmatrix(Sx)(cube(1,center=True))\n",
    "  #  c = multmatrix(Sy)(cube(1,center=True))\n",
    "  #  c = multmatrix(Sz)(cube(1,center=True))\n",
    "\n",
    "    r.render(c)\n",
    "q1c_t()\n",
    "\n",
    "\n"
   ]
  },
  {
   "cell_type": "code",
   "execution_count": 1,
   "metadata": {},
   "outputs": [
    {
     "ename": "NameError",
     "evalue": "name 'b' is not defined",
     "output_type": "error",
     "traceback": [
      "\u001b[1;31m---------------------------------------------------------------------------\u001b[0m",
      "\u001b[1;31mNameError\u001b[0m                                 Traceback (most recent call last)",
      "\u001b[1;32m<ipython-input-1-5807bae251ec>\u001b[0m in \u001b[0;36m<module>\u001b[1;34m\u001b[0m\n\u001b[1;32m----> 1\u001b[1;33m \u001b[0mtype\u001b[0m\u001b[1;33m(\u001b[0m\u001b[0mb\u001b[0m\u001b[1;33m[\u001b[0m\u001b[1;36m0\u001b[0m\u001b[1;33m]\u001b[0m\u001b[1;33m[\u001b[0m\u001b[1;36m0\u001b[0m\u001b[1;33m]\u001b[0m\u001b[1;33m)\u001b[0m\u001b[1;33m\u001b[0m\u001b[1;33m\u001b[0m\u001b[0m\n\u001b[0m",
      "\u001b[1;31mNameError\u001b[0m: name 'b' is not defined"
     ]
    }
   ],
   "source": [
    "type(b[0][0])\n"
   ]
  },
  {
   "cell_type": "code",
   "execution_count": null,
   "metadata": {},
   "outputs": [],
   "source": [
    "type([2,1,1])"
   ]
  },
  {
   "cell_type": "code",
   "execution_count": 12,
   "metadata": {},
   "outputs": [
    {
     "data": {
      "text/plain": [
       "list"
      ]
     },
     "execution_count": 12,
     "metadata": {},
     "output_type": "execute_result"
    }
   ],
   "source": [
    "type(aa)"
   ]
  },
  {
   "cell_type": "code",
   "execution_count": null,
   "metadata": {},
   "outputs": [],
   "source": [
    "type(Rz[1][1])"
   ]
  },
  {
   "cell_type": "code",
   "execution_count": null,
   "metadata": {},
   "outputs": [],
   "source": [
    "def aaaa(b:float):\n",
    "    return b*2;\n",
    "aaaa(2)"
   ]
  },
  {
   "cell_type": "code",
   "execution_count": null,
   "metadata": {},
   "outputs": [],
   "source": [
    "b = np.zeros((4,4))\n",
    "b[1][1] = 1\n",
    "b[0:4][0:4]"
   ]
  },
  {
   "cell_type": "code",
   "execution_count": 13,
   "metadata": {},
   "outputs": [
    {
     "data": {
      "text/plain": [
       "[[-0.6692138556101173], [1.5503418664414328], [-0.38547751246776496]]"
      ]
     },
     "execution_count": 13,
     "metadata": {},
     "output_type": "execute_result"
    }
   ],
   "source": [
    "aa"
   ]
  },
  {
   "cell_type": "code",
   "execution_count": 17,
   "metadata": {},
   "outputs": [
    {
     "name": "stdout",
     "output_type": "stream",
     "text": [
      "\n",
      "\n",
      "cube(size = [2, 2, 3]);\n"
     ]
    }
   ],
   "source": [
    "    print(scad_render(cube([2,2,3])))\n"
   ]
  },
  {
   "cell_type": "code",
   "execution_count": 42,
   "metadata": {},
   "outputs": [
    {
     "data": {
      "text/plain": [
       "matrix([[-0.69391103,  0.52135866, -0.49666149],\n",
       "        [ 0.47913508,  0.84920153,  0.22200526],\n",
       "        [ 0.53751006, -0.08391605, -0.83907153]])"
      ]
     },
     "execution_count": 42,
     "metadata": {},
     "output_type": "execute_result"
    }
   ],
   "source": [
    "b = Rz(20)*Rx(10)*Rz(30)\n",
    "zer = np.zeros((4,4))\n",
    "zer = zer[3][3] + b\n",
    "zer"
   ]
  },
  {
   "cell_type": "code",
   "execution_count": 69,
   "metadata": {},
   "outputs": [
    {
     "data": {
      "text/plain": [
       "matrix([[-0.69391103,  0.52135866, -0.49666149],\n",
       "        [ 0.47913508,  0.84920153,  0.22200526],\n",
       "        [ 0.53751006, -0.08391605, -0.83907153]])"
      ]
     },
     "execution_count": 69,
     "metadata": {},
     "output_type": "execute_result"
    }
   ],
   "source": [
    "b = Rz(20)*Rx(10)*Rz(30)\n",
    "b"
   ]
  },
  {
   "cell_type": "code",
   "execution_count": 70,
   "metadata": {},
   "outputs": [
    {
     "data": {
      "text/plain": [
       "matrix([[-0.69391103,  0.52135866, -0.49666149,  0.        ],\n",
       "        [ 0.47913508,  0.84920153,  0.22200526,  0.        ],\n",
       "        [ 0.53751006, -0.08391605, -0.83907153,  1.        ],\n",
       "        [ 0.        ,  0.        ,  0.        ,  1.        ]])"
      ]
     },
     "execution_count": 70,
     "metadata": {},
     "output_type": "execute_result"
    }
   ],
   "source": [
    "b = np.insert(b,[3],[[0],[0],[1]],axis=1)\n",
    "b = np.insert(np.transpose(b),[3],[[0],[0],[0],[1]],axis=1)\n",
    "b = np.transpose(b)\n",
    "b"
   ]
  },
  {
   "cell_type": "code",
   "execution_count": 61,
   "metadata": {},
   "outputs": [
    {
     "data": {
      "text/plain": [
       "matrix([[-0.69391103,  0.52135866, -0.49666149,  0.        ],\n",
       "        [ 0.        ,  0.        ,  0.        ,  0.        ],\n",
       "        [ 0.        ,  0.        ,  0.        ,  0.        ],\n",
       "        [ 0.        ,  0.        ,  0.        ,  0.        ],\n",
       "        [ 1.        ,  1.        ,  1.        ,  1.        ],\n",
       "        [ 0.47913508,  0.84920153,  0.22200526,  0.        ],\n",
       "        [ 0.53751006, -0.08391605, -0.83907153,  1.        ]])"
      ]
     },
     "execution_count": 61,
     "metadata": {},
     "output_type": "execute_result"
    }
   ],
   "source": [
    "b"
   ]
  },
  {
   "cell_type": "code",
   "execution_count": null,
   "metadata": {},
   "outputs": [],
   "source": []
  }
 ],
 "metadata": {
  "kernelspec": {
   "display_name": "Python 3",
   "language": "python",
   "name": "python3"
  },
  "language_info": {
   "codemirror_mode": {
    "name": "ipython",
    "version": 3
   },
   "file_extension": ".py",
   "mimetype": "text/x-python",
   "name": "python",
   "nbconvert_exporter": "python",
   "pygments_lexer": "ipython3",
   "version": "3.7.4"
  }
 },
 "nbformat": 4,
 "nbformat_minor": 2
}
