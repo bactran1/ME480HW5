{
 "cells": [
  {
   "cell_type": "code",
   "execution_count": null,
   "metadata": {
    "scrolled": true
   },
   "outputs": [
    {
     "name": "stdout",
     "output_type": "stream",
     "text": [
      "Enter inner diameter 3\n",
      "Enter outer diameter 1\n",
      "Please Enter again: \n",
      "Enter inner diameter 2\n",
      "Enter outer diameter 1\n",
      "Please Enter again: \n"
     ]
    }
   ],
   "source": [
    "from solid import *\n",
    "from solid.utils import *\n",
    "import viewscad\n",
    "import numpy\n",
    "\n",
    "r = viewscad.Renderer()\n",
    "\n",
    "\n",
    "def q1a():\n",
    "    \n",
    "    c = cylinder(10/2,5) - cylinder(5/2,5)\n",
    "    r.render(c)\n",
    "    print(scad_render(c))\n",
    "\n",
    "def q1b():\n",
    "    while True:\n",
    "        ri = [int(i) for i in input(\"Enter inner diameter \").split()]\n",
    "        ri = [ri[i]/2 for i in range(len(ri))];\n",
    "        ro = [int(i) for i in input(\"Enter outer diameter \").split()]\n",
    "        ro = [ro[i]/2 for i in range(len(ro))];\n",
    "\n",
    "        if len(ri) == 1 and len(ro) == 1 and ri[0] < ro[0]:\n",
    "            break;\n",
    "        elif len(ri)!= 1 or len(ro) != 1 or ri[0]> ro[0]:\n",
    "            print(\"Please Enter again: \");\n",
    "\n",
    "\n",
    "    c = translate([0,0,0])(\n",
    "                difference()(\n",
    "                     cylinder(ro[0], 1), translate([0,0,-1])(cylinder(ri[0], 3))\n",
    "                    )\n",
    "            )\n",
    "\n",
    "    r.render(c)\n",
    "    print(scad_render(c))\n",
    "\n",
    "\n",
    "def q1c():\n",
    "    while True:\n",
    "        ri = [int(i) for i in input(\"Enter inner diameters, with space: \").split()]\n",
    "        ri = [ri[i]/2 for i in range(len(ri))];\n",
    "        thic = [int(i) for i in input(\"Enter wall thickness, with space: \").split()]\n",
    "        thic = [thic[i]/2 for i in range(len(thic))];\n",
    "        \n",
    "        if len(ri) == len(thic):\n",
    "            break;\n",
    "        elif len(ri)!=len(thic):\n",
    "            print(\"Please Enter again: \");\n",
    "\n",
    "\n",
    "    c = translate([0,0,0])(\n",
    "                difference()(\n",
    "                     cylinder(ri[0]+thic[0], 5), translate([0,0,-1])(cylinder(ri[0], 10))\n",
    "                )\n",
    "        )\n",
    "\n",
    "    dis = [0]*len(ri);\n",
    "    for i in range(len(dis)-1):\n",
    "        dis[i+1] = dis[i] + (ri[i]+thic[i]*0.5)*1+ ri[i+1]+thic[i+1];\n",
    "\n",
    "    for i in range(len(ri)-1):\n",
    "\n",
    "\n",
    "\n",
    "        newcir = translate([dis[i+1],0,0])(\n",
    "               difference()(\n",
    "                    cylinder(ri[i+1]+thic[i+1], 5), translate([0,0,-1])(cylinder(ri[i+1], 10))\n",
    "                  )\n",
    "                )\n",
    "        c = c + newcir\n",
    "    r.render(c)\n",
    "    print(scad_render(c))\n",
    "\n",
    "q1b()"
   ]
  },
  {
   "cell_type": "code",
   "execution_count": null,
   "metadata": {},
   "outputs": [],
   "source": [
    "int(ri)"
   ]
  },
  {
   "cell_type": "code",
   "execution_count": null,
   "metadata": {},
   "outputs": [],
   "source": [
    "type(ri)"
   ]
  },
  {
   "cell_type": "code",
   "execution_count": null,
   "metadata": {},
   "outputs": [],
   "source": [
    "x = [int(i) for i in input().split()]\n",
    "\n",
    "               "
   ]
  },
  {
   "cell_type": "code",
   "execution_count": null,
   "metadata": {},
   "outputs": [],
   "source": [
    "type(x)"
   ]
  },
  {
   "cell_type": "code",
   "execution_count": null,
   "metadata": {},
   "outputs": [],
   "source": [
    "x = [float(i) for i in [int(i) for i in input().split()]]\n",
    "x"
   ]
  },
  {
   "cell_type": "code",
   "execution_count": null,
   "metadata": {},
   "outputs": [],
   "source": [
    "s=0;\n",
    "for i in range(5): s = s+1; print(s)"
   ]
  },
  {
   "cell_type": "code",
   "execution_count": null,
   "metadata": {},
   "outputs": [],
   "source": [
    "while True:\n",
    "    ri = [float(i) for i in [int(i) for i in input(\"Enter inner diameters, with space: \").split()]]\n",
    "    thic = [float(i) for i in [int(i) for i in input(\"Enter wall thickness, with space: \").split()]]\n",
    "    if len(ri) == len(thic):\n",
    "        break;\n",
    "    elif len(ri)!=len(thic):\n",
    "        print(\"Please Enter again: \");\n"
   ]
  },
  {
   "cell_type": "code",
   "execution_count": null,
   "metadata": {},
   "outputs": [],
   "source": [
    "type(thic)"
   ]
  },
  {
   "cell_type": "code",
   "execution_count": null,
   "metadata": {},
   "outputs": [],
   "source": [
    "d = difference()(\n",
    "    cube(10),  # Note the comma between each element!\n",
    "    sphere(15)\n",
    ")\n",
    "print(scad_render(d))"
   ]
  },
  {
   "cell_type": "code",
   "execution_count": null,
   "metadata": {},
   "outputs": [],
   "source": [
    "a = [1,2,5,6]\n",
    "b = [3,4,7,9]\n",
    "c =0\n",
    "\n",
    "for i in range(len(ri)):c=(a[i]-b[i]); print(c)"
   ]
  },
  {
   "cell_type": "code",
   "execution_count": null,
   "metadata": {},
   "outputs": [],
   "source": [
    "range(len(ri))"
   ]
  },
  {
   "cell_type": "code",
   "execution_count": null,
   "metadata": {},
   "outputs": [],
   "source": [
    "for i in range(len(ri)): print(ri[i])"
   ]
  },
  {
   "cell_type": "code",
   "execution_count": null,
   "metadata": {},
   "outputs": [],
   "source": [
    "for i in range(len(dis)):\n",
    "    dis[i] = dis[i] + 1\n",
    "    print(i)"
   ]
  },
  {
   "cell_type": "code",
   "execution_count": null,
   "metadata": {},
   "outputs": [],
   "source": [
    "dis"
   ]
  },
  {
   "cell_type": "code",
   "execution_count": null,
   "metadata": {},
   "outputs": [],
   "source": [
    "rr = [ri[i]/2 for i in range(len(ri))]\n",
    "rr\n"
   ]
  },
  {
   "cell_type": "code",
   "execution_count": null,
   "metadata": {},
   "outputs": [],
   "source": []
  }
 ],
 "metadata": {
  "kernelspec": {
   "display_name": "Python 3",
   "language": "python",
   "name": "python3"
  },
  "language_info": {
   "codemirror_mode": {
    "name": "ipython",
    "version": 3
   },
   "file_extension": ".py",
   "mimetype": "text/x-python",
   "name": "python",
   "nbconvert_exporter": "python",
   "pygments_lexer": "ipython3",
   "version": "3.7.4"
  }
 },
 "nbformat": 4,
 "nbformat_minor": 2
}
