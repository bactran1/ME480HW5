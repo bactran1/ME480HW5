{
 "cells": [
  {
   "cell_type": "code",
   "execution_count": 17,
   "metadata": {
    "scrolled": true
   },
   "outputs": [
    {
     "name": "stdout",
     "output_type": "stream",
     "text": [
      "Enter inner diameters, with space: 5 5 5\n",
      "Enter separation distance: 6\n",
      "Enter height: 5\n"
     ]
    },
    {
     "data": {
      "application/vnd.jupyter.widget-view+json": {
       "model_id": "98cb0f7b7d034400bbd0fedcef46b125",
       "version_major": 2,
       "version_minor": 0
      },
      "text/plain": [
       "VBox(children=(HTML(value=''), Renderer(background='#cccc88', background_opacity=0.0, camera=PerspectiveCamera…"
      ]
     },
     "metadata": {},
     "output_type": "display_data"
    },
    {
     "name": "stdout",
     "output_type": "stream",
     "text": [
      "\n",
      "\n",
      "union() {\n",
      "\ttranslate(v = [0, 0, 0]) {\n",
      "\t\tdifference() {\n",
      "\t\t\tcylinder(h = 5.0000000000, r = 2.5000000000);\n",
      "\t\t}\n",
      "\t}\n",
      "\ttranslate(v = [6.0000000000, 0, 0]) {\n",
      "\t\tdifference() {\n",
      "\t\t\tcylinder(h = 5.0000000000, r = 2.5000000000);\n",
      "\t\t}\n",
      "\t}\n",
      "\ttranslate(v = [12.0000000000, 0, 0]) {\n",
      "\t\tdifference() {\n",
      "\t\t\tcylinder(h = 5.0000000000, r = 2.5000000000);\n",
      "\t\t}\n",
      "\t}\n",
      "\thull() {\n",
      "\t\ttranslate(v = [0, 0, 0]) {\n",
      "\t\t\tdifference() {\n",
      "\t\t\t\tcylinder(h = 2.0000000000, r = 3.5000000000);\n",
      "\t\t\t}\n",
      "\t\t}\n",
      "\t\ttranslate(v = [12.0000000000, 0, 0]) {\n",
      "\t\t\tdifference() {\n",
      "\t\t\t\tcylinder(h = 2.0000000000, r = 3.5000000000);\n",
      "\t\t\t}\n",
      "\t\t}\n",
      "\t}\n",
      "}\n"
     ]
    }
   ],
   "source": [
    "from solid import *\n",
    "from solid.utils import *\n",
    "import viewscad\n",
    "import numpy\n",
    "\n",
    "r = viewscad.Renderer()\n",
    "\n",
    "\n",
    "def q2a():\n",
    "    \n",
    "    c = cylinder(10,5) - cylinder(5,10)\n",
    "    r.render(c)\n",
    "    print(scad_render(c))\n",
    "\n",
    "\n",
    "def q2b():\n",
    "    while True:\n",
    "        ri = [int(i) for i in input(\"Enter inner diameters, with space: \").split()]\n",
    "        ri = [ri[i]/2 for i in range(len(ri))];\n",
    "        dis = float(input(\"Enter separation distance: \"))\n",
    "        he = float(input(\"Enter height: \"))\n",
    "        break;\n",
    "#        if len(dis) == 1 and len(he) == 1:\n",
    "#           break;\n",
    "#        elif len(dis)!=len(he):\n",
    "#            print(\"Please Enter again: \");\n",
    "\n",
    "\n",
    "    c = translate([0,0,0])(\n",
    "                difference()(\n",
    "                     cylinder(ri[0],he)\n",
    "                )\n",
    "        )\n",
    "\n",
    "\n",
    "    for i in range(len(ri)-1):\n",
    "\n",
    "        newcir = translate([dis + dis*i,0,0])(\n",
    "               difference()(\n",
    "                    cylinder(ri[i+1], he)\n",
    "                  )\n",
    "                )\n",
    "        c = c + newcir\n",
    "    ch = hull()(translate([0,0,0])(\n",
    "                difference()(\n",
    "                     cylinder(ri[0]*1.4,he*0.4)\n",
    "                )\n",
    "                ),\n",
    "                translate([dis+dis*(len(ri)-2),0,0])(\n",
    "                difference()(\n",
    "                     cylinder(ri[(len(ri)-2)]*1.4,he*0.4)\n",
    "                )\n",
    "                )\n",
    "         )\n",
    "    c = c + ch\n",
    "    r.render(c)\n",
    "    print(scad_render(c))\n",
    "\n",
    "q2b()"
   ]
  },
  {
   "cell_type": "code",
   "execution_count": null,
   "metadata": {},
   "outputs": [],
   "source": []
  }
 ],
 "metadata": {
  "kernelspec": {
   "display_name": "Python 3",
   "language": "python",
   "name": "python3"
  },
  "language_info": {
   "codemirror_mode": {
    "name": "ipython",
    "version": 3
   },
   "file_extension": ".py",
   "mimetype": "text/x-python",
   "name": "python",
   "nbconvert_exporter": "python",
   "pygments_lexer": "ipython3",
   "version": "3.7.4"
  }
 },
 "nbformat": 4,
 "nbformat_minor": 2
}
