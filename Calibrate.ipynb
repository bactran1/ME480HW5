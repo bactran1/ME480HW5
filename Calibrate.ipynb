{
 "cells": [
  {
   "cell_type": "code",

   "execution_count": 18,

   "metadata": {
    "scrolled": true
   },
   "outputs": [],
   "source": [
    "from solid import *\n",
    "from solid.utils import *\n",
    "import viewscad\n",
    "import numpy\n",
    "\n",
    "r = viewscad.Renderer()\n",
    "\n",
    "\n",

    "def q1a():\n",
    "    \n",
    "    c = cylinder(10,5) - cylinder(5,5)\n",
    "    r.render(c)\n",
    "    print(scad_render(c))\n",
    "\n",
    "def q1b():\n",
    "    while True:\n",
    "        ri = [int(i) for i in input(\"Enter inner diameter \").split()]\n",
    "        ri = [ri[i]/2 for i in range(len(ri))];\n",
    "        ro = [int(i) for i in input(\"Enter outer diameter \").split()]\n",
    "        ro = [ro[i]/2 for i in range(len(ro))];\n",
    "\n",
    "        if len(ri) == 1 and len(ro) == 1 and ri[0] < ro[0]:\n",
    "            break;\n",
    "        elif len(ri)!= 1 or len(ro) != 1 or ri[0]> ro[0]:\n",
    "            print(\"Please Enter again: \");\n",
    "\n",
    "\n",
    "    c = translate([0,0,0])(\n",
    "                difference()(\n",
    "                     cylinder(ro[0], 1), translate([0,0,-1])(cylinder(ri[0], 3))\n",
    "                    )\n",
    "            )\n",
    "\n",
    "    r.render(c)\n",
    "    print(scad_render(c))\n",
    "\n",
    "\n",
    "def q1c():\n",
    "    while True:\n",
    "        ri = [int(i) for i in input(\"Enter inner diameters, with space: \").split()]\n",
    "        ri = [ri[i]/2 for i in range(len(ri))];\n",
    "        thic = [int(i) for i in input(\"Enter wall thickness, with space: \").split()]\n",
    "        thic = [thic[i]/2 for i in range(len(thic))];\n",
    "        \n",
    "        if len(ri) == len(thic):\n",
    "            break;\n",
    "        elif len(ri)!=len(thic):\n",
    "            print(\"Please Enter again: \");\n",
    "\n",
    "\n",
    "    c = translate([0,0,0])(\n",
    "                difference()(\n",
    "                     cylinder(ri[0]+thic[0], 5), translate([0,0,-1])(cylinder(ri[0], 10))\n",
    "                )\n",
    "        )\n",
    "\n",
    "    dis = [0]*len(ri);\n",
    "    for i in range(len(dis)-1):\n",
    "        dis[i+1] = dis[i] + (ri[i]+thic[i]*0.5)*1+ ri[i+1]+thic[i+1];\n",
    "\n",
    "    for i in range(len(ri)-1):\n",
    "\n",
    "\n",
    "\n",
    "        newcir = translate([dis[i+1],0,0])(\n",
    "               difference()(\n",
    "                    cylinder(ri[i+1]+thic[i+1], 5), translate([0,0,-1])(cylinder(ri[i+1], 10))\n",
    "                  )\n",
    "                )\n",
    "        c = c + newcir\n",

    "    r.render(c)\n",
    "    print(scad_render(c))\n",
    "\n"
   ]
  },
  {
   "cell_type": "code",
   "execution_count": null,
   "metadata": {},
   "outputs": [],
   "source": []
  }
 ],
 "metadata": {
  "kernelspec": {
   "display_name": "Python 3",
   "language": "python",
   "name": "python3"
  },
  "language_info": {
   "codemirror_mode": {
    "name": "ipython",
    "version": 3
   },
   "file_extension": ".py",
   "mimetype": "text/x-python",
   "name": "python",
   "nbconvert_exporter": "python",
   "pygments_lexer": "ipython3",
   "version": "3.7.4"
  }
 },
 "nbformat": 4,
 "nbformat_minor": 2
}
