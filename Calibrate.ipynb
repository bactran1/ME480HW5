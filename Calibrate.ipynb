{
 "cells": [
  {
   "cell_type": "code",
   "execution_count": 112,
   "metadata": {
    "scrolled": true
   },
   "outputs": [
    {
     "name": "stdout",
     "output_type": "stream",
     "text": [
      "Enter inner diameters, with space: 1 2 3 4 5\n",
      "Enter wall thickness, with space: 2 3 4 5 6\n"
     ]
    },
    {
     "data": {
      "application/vnd.jupyter.widget-view+json": {
       "model_id": "bcc3a98813614a50829d1e59cccb650f",
       "version_major": 2,
       "version_minor": 0
      },
      "text/plain": [
       "VBox(children=(HTML(value=''), Renderer(background='#cccc88', background_opacity=0.0, camera=PerspectiveCamera…"
      ]
     },
     "metadata": {},
     "output_type": "display_data"
    },
    {
     "name": "stdout",
     "output_type": "stream",
     "text": [
      "\n",
      "\n",
      "union() {\n",
      "\ttranslate(v = [0, 0, 0]) {\n",
      "\t\tdifference() {\n",
      "\t\t\tcylinder(h = 5, r = 3);\n",
      "\t\t\ttranslate(v = [0, 0, -1]) {\n",
      "\t\t\t\tcylinder(h = 10, r = 1);\n",
      "\t\t\t}\n",
      "\t\t}\n",
      "\t}\n",
      "\ttranslate(v = [7.0000000000, 0, 0]) {\n",
      "\t\tdifference() {\n",
      "\t\t\tcylinder(h = 5, r = 5);\n",
      "\t\t\ttranslate(v = [0, 0, -1]) {\n",
      "\t\t\t\tcylinder(h = 10, r = 2);\n",
      "\t\t\t}\n",
      "\t\t}\n",
      "\t}\n",
      "\ttranslate(v = [17.5000000000, 0, 0]) {\n",
      "\t\tdifference() {\n",
      "\t\t\tcylinder(h = 5, r = 7);\n",
      "\t\t\ttranslate(v = [0, 0, -1]) {\n",
      "\t\t\t\tcylinder(h = 10, r = 3);\n",
      "\t\t\t}\n",
      "\t\t}\n",
      "\t}\n",
      "\ttranslate(v = [31.5000000000, 0, 0]) {\n",
      "\t\tdifference() {\n",
      "\t\t\tcylinder(h = 5, r = 9);\n",
      "\t\t\ttranslate(v = [0, 0, -1]) {\n",
      "\t\t\t\tcylinder(h = 10, r = 4);\n",
      "\t\t\t}\n",
      "\t\t}\n",
      "\t}\n",
      "\ttranslate(v = [49.0000000000, 0, 0]) {\n",
      "\t\tdifference() {\n",
      "\t\t\tcylinder(h = 5, r = 11);\n",
      "\t\t\ttranslate(v = [0, 0, -1]) {\n",
      "\t\t\t\tcylinder(h = 10, r = 5);\n",
      "\t\t\t}\n",
      "\t\t}\n",
      "\t}\n",
      "}\n"
     ]
    }
   ],
   "source": [
    "from solid import *\n",
    "from solid.utils import *\n",
    "import viewscad\n",
    "import numpy\n",
    "\n",
    "def \n",
    "while True:\n",
    "    #ri = [int(i) for i in [int(i) for i in input(\"Enter inner diameters, with space: \").split()]]\n",
    "    ri = [int(i) for i in input(\"Enter inner diameters, with space: \").split()]\n",
    "    #thic = [int(i) for i in [int(i) for i in input(\"Enter wall thickness, with space: \").split()]]\n",
    "    thic = [int(i) for i in input(\"Enter wall thickness, with space: \").split()]\n",
    "    if len(ri) == len(thic):\n",
    "        break;\n",
    "    elif len(ri)!=len(thic):\n",
    "        print(\"Please Enter again: \");\n",
    "\n",
    "r = viewscad.Renderer()\n",
    "\n",
    "\n",
    "c = translate([0,0,0])(\n",
    "            difference()(\n",
    "                 cylinder(ri[0]+thic[0], 5), translate([0,0,-1])(cylinder(ri[0], 10))\n",
    "            )\n",
    "    )\n",
    "\n",
    "dis = [0]*len(ri);\n",
    "for i in range(len(dis)-1):\n",
    "    dis[i+1] = dis[i] + (ri[i]+thic[i]*0.5)*1+ ri[i+1]+thic[i+1];\n",
    "\n",
    "for i in range(len(ri)-1):\n",
    "    \n",
    "    \n",
    "    \n",
    "    newcir = translate([dis[i+1],0,0])(\n",
    "           difference()(\n",
    "                cylinder(ri[i+1]+thic[i+1], 5), translate([0,0,-1])(cylinder(ri[i+1], 10))\n",
    "              )\n",
    "            )\n",
    "    c = c + newcir\n",
    "##r.render(c)\n",
    "print(scad_render(c))"
   ]
  },
  {
   "cell_type": "markdown",
   "metadata": {},
   "source": [
    "### \n",
    "def myf(r,r2,h1):\n",
    "    c += translate([0,0,0])(\n",
    "            difference()\n",
    "                 (cylinder(a, h=5), cylinder(d=5, h=30)\n",
    "            )\n",
    "    )\n",
    "    return c\n",
    "\n",
    "d = myf(1,2,5);\n"
   ]
  },
  {
   "cell_type": "code",
   "execution_count": null,
   "metadata": {},
   "outputs": [],
   "source": [
    "\n",
    "c += translate([5,5,0])(cylinder(r=5, h=30))\n"
   ]
  },
  {
   "cell_type": "code",
   "execution_count": null,
   "metadata": {},
   "outputs": [],
   "source": [
    "int(ri)"
   ]
  },
  {
   "cell_type": "code",
   "execution_count": null,
   "metadata": {},
   "outputs": [],
   "source": [
    "type(ri)"
   ]
  },
  {
   "cell_type": "code",
   "execution_count": null,
   "metadata": {},
   "outputs": [],
   "source": [
    "x = [int(i) for i in input().split()]\n",
    "\n",
    "               "
   ]
  },
  {
   "cell_type": "code",
   "execution_count": null,
   "metadata": {},
   "outputs": [],
   "source": [
    "type(x)"
   ]
  },
  {
   "cell_type": "code",
   "execution_count": null,
   "metadata": {},
   "outputs": [],
   "source": [
    "x = [float(i) for i in [int(i) for i in input().split()]]\n",
    "x"
   ]
  },
  {
   "cell_type": "code",
   "execution_count": 27,
   "metadata": {},
   "outputs": [
    {
     "name": "stdout",
     "output_type": "stream",
     "text": [
      "1\n",
      "2\n",
      "3\n",
      "4\n",
      "5\n"
     ]
    }
   ],
   "source": [
    "s=0;\n",
    "for i in range(5): s = s+1; print(s)"
   ]
  },
  {
   "cell_type": "code",
   "execution_count": null,
   "metadata": {},
   "outputs": [],
   "source": [
    "while True:\n",
    "    ri = [float(i) for i in [int(i) for i in input(\"Enter inner diameters, with space: \").split()]]\n",
    "    thic = [float(i) for i in [int(i) for i in input(\"Enter wall thickness, with space: \").split()]]\n",
    "    if len(ri) == len(thic):\n",
    "        break;\n",
    "    elif len(ri)!=len(thic):\n",
    "        print(\"Please Enter again: \");\n"
   ]
  },
  {
   "cell_type": "code",
   "execution_count": null,
   "metadata": {},
   "outputs": [],
   "source": [
    "type(thic)"
   ]
  },
  {
   "cell_type": "code",
   "execution_count": 11,
   "metadata": {},
   "outputs": [
    {
     "name": "stdout",
     "output_type": "stream",
     "text": [
      "\n",
      "\n",
      "difference() {\n",
      "\tcube(size = 10);\n",
      "\tsphere(r = 15);\n",
      "}\n"
     ]
    }
   ],
   "source": [
    "d = difference()(\n",
    "    cube(10),  # Note the comma between each element!\n",
    "    sphere(15)\n",
    ")\n",
    "print(scad_render(d))"
   ]
  },
  {
   "cell_type": "code",
   "execution_count": 56,
   "metadata": {},
   "outputs": [
    {
     "name": "stdout",
     "output_type": "stream",
     "text": [
      "-2\n",
      "-2\n",
      "-2\n",
      "-3\n"
     ]
    }
   ],
   "source": [
    "a = [1,2,5,6]\n",
    "b = [3,4,7,9]\n",
    "c =0\n",
    "\n",
    "for i in range(len(ri)):c=(a[i]-b[i]); print(c)"
   ]
  },
  {
   "cell_type": "code",
   "execution_count": 58,
   "metadata": {},
   "outputs": [
    {
     "data": {
      "text/plain": [
       "range(0, 2)"
      ]
     },
     "execution_count": 58,
     "metadata": {},
     "output_type": "execute_result"
    }
   ],
   "source": [
    "range(len(ri))"
   ]
  },
  {
   "cell_type": "code",
   "execution_count": 60,
   "metadata": {},
   "outputs": [
    {
     "name": "stdout",
     "output_type": "stream",
     "text": [
      "1\n",
      "2\n"
     ]
    }
   ],
   "source": [
    "for i in range(len(ri)): print(ri[i])"
   ]
  },
  {
   "cell_type": "code",
   "execution_count": 91,
   "metadata": {},
   "outputs": [
    {
     "name": "stdout",
     "output_type": "stream",
     "text": [
      "0\n",
      "1\n",
      "2\n"
     ]
    }
   ],
   "source": [
    "for i in range(len(dis)):\n",
    "    dis[i] = dis[i] + 1\n",
    "    print(i)"
   ]
  },
  {
   "cell_type": "code",
   "execution_count": 94,
   "metadata": {},
   "outputs": [
    {
     "data": {
      "text/plain": [
       "[0, 11, 17]"
      ]
     },
     "execution_count": 94,
     "metadata": {},
     "output_type": "execute_result"
    }
   ],
   "source": [
    "dis"
   ]
  },
  {
   "cell_type": "code",
   "execution_count": null,
   "metadata": {},
   "outputs": [],
   "source": []
  }
 ],
 "metadata": {
  "kernelspec": {
   "display_name": "Python 3",
   "language": "python",
   "name": "python3"
  },
  "language_info": {
   "codemirror_mode": {
    "name": "ipython",
    "version": 3
   },
   "file_extension": ".py",
   "mimetype": "text/x-python",
   "name": "python",
   "nbconvert_exporter": "python",
   "pygments_lexer": "ipython3",
   "version": "3.7.4"
  }
 },
 "nbformat": 4,
 "nbformat_minor": 2
}
