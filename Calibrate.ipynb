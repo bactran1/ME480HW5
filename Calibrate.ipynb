{
 "cells": [
  {
   "cell_type": "code",
   "execution_count": 17,
   "metadata": {
    "scrolled": true
   },
   "outputs": [
    {
     "name": "stdout",
     "output_type": "stream",
     "text": [
      "Enter inner diameters, with space: 5 5 5\n",
      "Enter separation distance: 6\n",
      "Enter height: 5\n"
     ]
    },
    {
     "data": {
      "application/vnd.jupyter.widget-view+json": {
       "model_id": "98cb0f7b7d034400bbd0fedcef46b125",
       "version_major": 2,
       "version_minor": 0
      },
      "text/plain": [
       "VBox(children=(HTML(value=''), Renderer(background='#cccc88', background_opacity=0.0, camera=PerspectiveCamera…"
      ]
     },
     "metadata": {},
     "output_type": "display_data"
    },
    {
     "name": "stdout",
     "output_type": "stream",
     "text": [
      "\n",
      "\n",
      "union() {\n",
      "\ttranslate(v = [0, 0, 0]) {\n",
      "\t\tdifference() {\n",
      "\t\t\tcylinder(h = 5.0000000000, r = 2.5000000000);\n",
      "\t\t}\n",
      "\t}\n",
      "\ttranslate(v = [6.0000000000, 0, 0]) {\n",
      "\t\tdifference() {\n",
      "\t\t\tcylinder(h = 5.0000000000, r = 2.5000000000);\n",
      "\t\t}\n",
      "\t}\n",
      "\ttranslate(v = [12.0000000000, 0, 0]) {\n",
      "\t\tdifference() {\n",
      "\t\t\tcylinder(h = 5.0000000000, r = 2.5000000000);\n",
      "\t\t}\n",
      "\t}\n",
      "\thull() {\n",
      "\t\ttranslate(v = [0, 0, 0]) {\n",
      "\t\t\tdifference() {\n",
      "\t\t\t\tcylinder(h = 2.0000000000, r = 3.5000000000);\n",
      "\t\t\t}\n",
      "\t\t}\n",
      "\t\ttranslate(v = [12.0000000000, 0, 0]) {\n",
      "\t\t\tdifference() {\n",
      "\t\t\t\tcylinder(h = 2.0000000000, r = 3.5000000000);\n",
      "\t\t\t}\n",
      "\t\t}\n",
      "\t}\n",
      "}\n"
     ]
    }
   ],
   "source": [
    "from solid import *\n",
    "from solid.utils import *\n",
    "import viewscad\n",
    "import numpy\n",
    "\n",
    "r = viewscad.Renderer()\n",
    "\n",
    "\n",
    "def q2a():\n",
    "    \n",
    "    c = cylinder(10,5) - cylinder(5,10)\n",
    "    r.render(c)\n",
    "    print(scad_render(c))\n",
    "\n",
    "\n",
    "def q2b():\n",
    "    while True:\n",
    "        ri = [int(i) for i in input(\"Enter inner diameters, with space: \").split()]\n",
    "        ri = [ri[i]/2 for i in range(len(ri))];\n",
    "        dis = float(input(\"Enter separation distance: \"))\n",
    "        he = float(input(\"Enter height: \"))\n",
    "        break;\n",
    "#        if len(dis) == 1 and len(he) == 1:\n",
    "#           break;\n",
    "#        elif len(dis)!=len(he):\n",
    "#            print(\"Please Enter again: \");\n",
    "\n",
    "\n",
    "    c = translate([0,0,0])(\n",
    "                difference()(\n",
    "                     cylinder(ri[0],he)\n",
    "                )\n",
    "        )\n",
    "\n",
    "\n",
    "    for i in range(len(ri)-1):\n",
    "\n",
    "        newcir = translate([dis + dis*i,0,0])(\n",
    "               difference()(\n",
    "                    cylinder(ri[i+1], he)\n",
    "                  )\n",
    "                )\n",
    "        c = c + newcir\n",
    "    ch = hull()(translate([0,0,0])(\n",
    "                difference()(\n",
    "                     cylinder(ri[0]*1.4,he*0.4)\n",
    "                )\n",
    "                ),\n",
    "                translate([dis+dis*(len(ri)-2),0,0])(\n",
    "                difference()(\n",
    "                     cylinder(ri[(len(ri)-2)]*1.4,he*0.4)\n",
    "                )\n",
    "                )\n",
    "         )\n",
    "    c = c + ch\n",
    "    r.render(c)\n",
    "    print(scad_render(c))\n",
    "\n",
    "q2b()"
   ]
  },
  {
   "cell_type": "code",
   "execution_count": 16,
   "metadata": {},
   "outputs": [
    {
     "data": {
      "application/vnd.jupyter.widget-view+json": {
       "model_id": "1cb48b5c363e4becad1c4f6913e6e972",
       "version_major": 2,
       "version_minor": 0
      },
      "text/plain": [
       "VBox(children=(HTML(value=''), Renderer(background='#cccc88', background_opacity=0.0, camera=PerspectiveCamera…"
      ]
     },
     "metadata": {},
     "output_type": "display_data"
    }
   ],
   "source": [
    "c = hull()(cylinder(2,2) , translate([5,0,0])(cylinder(2,2)))\n",
    "r.render(c)"
   ]
  },
  {
   "cell_type": "code",
   "execution_count": 4,
   "metadata": {},
   "outputs": [
    {
     "name": "stdout",
     "output_type": "stream",
     "text": [
      "Enter separation distance: 1 2 3\n"
     ]
    },
    {
     "ename": "ValueError",
     "evalue": "invalid literal for int() with base 10: '1 2 3'",
     "output_type": "error",
     "traceback": [
      "\u001b[1;31m---------------------------------------------------------------------------\u001b[0m",
      "\u001b[1;31mValueError\u001b[0m                                Traceback (most recent call last)",
      "\u001b[1;32m<ipython-input-4-5e7df25a406a>\u001b[0m in \u001b[0;36m<module>\u001b[1;34m\u001b[0m\n\u001b[1;32m----> 1\u001b[1;33m \u001b[0mdis\u001b[0m \u001b[1;33m=\u001b[0m \u001b[0mint\u001b[0m\u001b[1;33m(\u001b[0m\u001b[0minput\u001b[0m\u001b[1;33m(\u001b[0m\u001b[1;34m\"Enter separation distance: \"\u001b[0m\u001b[1;33m)\u001b[0m\u001b[1;33m)\u001b[0m\u001b[1;33m\u001b[0m\u001b[1;33m\u001b[0m\u001b[0m\n\u001b[0m\u001b[0;32m      2\u001b[0m \u001b[0mhe\u001b[0m \u001b[1;33m=\u001b[0m \u001b[0minput\u001b[0m\u001b[1;33m(\u001b[0m\u001b[1;34m\"Enter height: \"\u001b[0m\u001b[1;33m)\u001b[0m\u001b[1;33m\u001b[0m\u001b[1;33m\u001b[0m\u001b[0m\n",
      "\u001b[1;31mValueError\u001b[0m: invalid literal for int() with base 10: '1 2 3'"
     ]
    }
   ],
   "source": [
    "        dis = int(input(\"Enter separation distance: \"))\n",
    "        he = input(\"Enter height: \")"
   ]
  },
  {
   "cell_type": "code",
   "execution_count": 3,
   "metadata": {},
   "outputs": [
    {
     "ename": "TypeError",
     "evalue": "object of type 'int' has no len()",
     "output_type": "error",
     "traceback": [
      "\u001b[1;31m---------------------------------------------------------------------------\u001b[0m",
      "\u001b[1;31mTypeError\u001b[0m                                 Traceback (most recent call last)",
      "\u001b[1;32m<ipython-input-3-05dc7b4002a7>\u001b[0m in \u001b[0;36m<module>\u001b[1;34m\u001b[0m\n\u001b[1;32m----> 1\u001b[1;33m \u001b[0mlen\u001b[0m\u001b[1;33m(\u001b[0m\u001b[0mdis\u001b[0m\u001b[1;33m)\u001b[0m\u001b[1;33m\u001b[0m\u001b[1;33m\u001b[0m\u001b[0m\n\u001b[0m\u001b[0;32m      2\u001b[0m \u001b[1;33m\u001b[0m\u001b[0m\n",
      "\u001b[1;31mTypeError\u001b[0m: object of type 'int' has no len()"
     ]
    }
   ],
   "source": [
    "len(dis)\n",
    "               "
   ]
  },
  {
   "cell_type": "code",
   "execution_count": null,
   "metadata": {},
   "outputs": [],
   "source": [
    "type(x)"
   ]
  },
  {
   "cell_type": "code",
   "execution_count": null,
   "metadata": {},
   "outputs": [],
   "source": [
    "x = [float(i) for i in [int(i) for i in input().split()]]\n",
    "x"
   ]
  },
  {
   "cell_type": "code",
   "execution_count": null,
   "metadata": {},
   "outputs": [],
   "source": [
    "s=0;\n",
    "for i in range(5): s = s+1; print(s)"
   ]
  },
  {
   "cell_type": "code",
   "execution_count": null,
   "metadata": {},
   "outputs": [],
   "source": [
    "while True:\n",
    "    ri = [float(i) for i in [int(i) for i in input(\"Enter inner diameters, with space: \").split()]]\n",
    "    thic = [float(i) for i in [int(i) for i in input(\"Enter wall thickness, with space: \").split()]]\n",
    "    if len(ri) == len(thic):\n",
    "        break;\n",
    "    elif len(ri)!=len(thic):\n",
    "        print(\"Please Enter again: \");\n"
   ]
  },
  {
   "cell_type": "code",
   "execution_count": null,
   "metadata": {},
   "outputs": [],
   "source": [
    "type(thic)"
   ]
  },
  {
   "cell_type": "code",
   "execution_count": null,
   "metadata": {},
   "outputs": [],
   "source": [
    "d = difference()(\n",
    "    cube(10),  # Note the comma between each element!\n",
    "    sphere(15)\n",
    ")\n",
    "print(scad_render(d))"
   ]
  },
  {
   "cell_type": "code",
   "execution_count": null,
   "metadata": {},
   "outputs": [],
   "source": [
    "a = [1,2,5,6]\n",
    "b = [3,4,7,9]\n",
    "c =0\n",
    "\n",
    "for i in range(len(ri)):c=(a[i]-b[i]); print(c)"
   ]
  },
  {
   "cell_type": "code",
   "execution_count": null,
   "metadata": {},
   "outputs": [],
   "source": [
    "range(len(ri))"
   ]
  },
  {
   "cell_type": "code",
   "execution_count": null,
   "metadata": {},
   "outputs": [],
   "source": [
    "for i in range(len(ri)): print(ri[i])"
   ]
  },
  {
   "cell_type": "code",
   "execution_count": null,
   "metadata": {},
   "outputs": [],
   "source": [
    "for i in range(len(dis)):\n",
    "    dis[i] = dis[i] + 1\n",
    "    print(i)"
   ]
  },
  {
   "cell_type": "code",
   "execution_count": null,
   "metadata": {},
   "outputs": [],
   "source": [
    "type(dis)"
   ]
  },
  {
   "cell_type": "code",
   "execution_count": null,
   "metadata": {},
   "outputs": [],
   "source": [
    "rr = [ri[i]/2 for i in range(len(ri))]\n",
    "rr\n"
   ]
  },
  {
   "cell_type": "code",
   "execution_count": null,
   "metadata": {},
   "outputs": [],
   "source": []
  }
 ],
 "metadata": {
  "kernelspec": {
   "display_name": "Python 3",
   "language": "python",
   "name": "python3"
  },
  "language_info": {
   "codemirror_mode": {
    "name": "ipython",
    "version": 3
   },
   "file_extension": ".py",
   "mimetype": "text/x-python",
   "name": "python",
   "nbconvert_exporter": "python",
   "pygments_lexer": "ipython3",
   "version": "3.7.4"
  }
 },
 "nbformat": 4,
 "nbformat_minor": 2
}
